{
 "cells": [
  {
   "cell_type": "code",
   "execution_count": 2,
   "metadata": {},
   "outputs": [],
   "source": [
    "import pandas as pd\n",
    "import os"
   ]
  },
  {
   "cell_type": "code",
   "execution_count": null,
   "metadata": {},
   "outputs": [],
   "source": [
    "df = pd.read_csv('./dataset/Telecom_customer churn_10+1.csv')\n",
    "df.head()"
   ]
  },
  {
   "cell_type": "code",
   "execution_count": 60,
   "metadata": {},
   "outputs": [],
   "source": [
    "# Determine the data type of each column (numeric or categorical)\n",
    "numeric_cols = df.select_dtypes(include='number').columns\n",
    "\n",
    "df[numeric_cols] = df[numeric_cols].fillna(df[numeric_cols].mean())"
   ]
  },
  {
   "cell_type": "code",
   "execution_count": 61,
   "metadata": {},
   "outputs": [],
   "source": [
    "# 各行ごとに特徴量を変数として格納\n",
    "for index, row in df.iterrows():\n",
    "    eqpdays = row['eqpdays']\n",
    "    hnd_price = row['hnd_price']\n",
    "    totmrc_Mean = row['totmrc_Mean']\n",
    "    mou_Mean = row['mou_Mean']\n",
    "    mou_cvce_Mean = row['mou_cvce_Mean']\n",
    "    avg3mou = row['avg3mou']\n",
    "    models = row['models']\n",
    "    avg3qty = row['avg3qty']\n",
    "    uniqsubs = row['uniqsubs']\n",
    "    income = row['income']\n",
    "\n",
    "\n",
    "    # position biasを防ぐため、2つのpromptでそれぞれ\"A\"と\"B\"を出力させる。\n",
    "    # prompt1では、Aが解約しそうでBが解約しなさそう\n",
    "    prompt1 = f\"\"\"Output “A” if a cell phone subscriber with the following characteristics is expected to cancel his/her contract next month, or “B” if he/she is not expected to cancel. Please be sure to output only one character, “A” or “B”.\n",
    "[Subscriber's information]\n",
    "・Number of days of current equipment: {eqpdays}\n",
    "・Current handset price: ${hnd_price:.2f}\n",
    "・Mean total monthly recurring charge: ${totmrc_Mean}\n",
    "・Mean number of monthly minutes of use: {mou_Mean}\n",
    "・Mean unrounded minutes of use of completed voice calls: {mou_cvce_Mean:.2f} \n",
    "・Average monthly minutes of use over the previous three months: {avg3mou}\n",
    "・Number of models issued: {int(models)}\n",
    "・Average monthly number of calls over the previous three months: {avg3qty}\n",
    "・Number of unique subscribers in your household: {int(uniqsubs)}\n",
    "・Income Level (1 is lowest and 9 is highest): {int(income)}\n",
    "\"\"\"\n",
    "\n",
    "    # prompt2では、Aが解約しなさそうでBが解約しそう\n",
    "    prompt2 = f\"\"\"Output “A” if a cell phone subscriber with the following characteristics is not expected to cancel his/her contract next month, or “B” if he/she is expected to cancel. Please be sure to output only one character, “A” or “B”.\n",
    "[Subscriber's information]\n",
    "・Number of days of current equipment: {eqpdays}\n",
    "・Current handset price: ${hnd_price:.2f}\n",
    "・Mean total monthly recurring charge: ${totmrc_Mean}\n",
    "・Mean number of monthly minutes of use: {mou_Mean}\n",
    "・Mean unrounded minutes of use of completed voice calls: {mou_cvce_Mean:.2f} \n",
    "・Average monthly minutes of use over the previous three months: {avg3mou}\n",
    "・Number of models issued: {int(models)}\n",
    "・Average monthly number of calls over the previous three months: {avg3qty}\n",
    "・Number of unique subscribers in your household: {int(uniqsubs)}\n",
    "・Income Level (1 is lowest and 9 is highest): {int(income)}\n",
    "\"\"\"\n",
    "\n",
    "    # promptをテキストファイルに書き込む\n",
    "    with open(f'./prompt/{index}-1.txt', 'w') as file:\n",
    "        file.write(f\"{prompt1}\\n\")  # 各値を新しい行に書き込む\n",
    "\n",
    "    # promptをテキストファイルに書き込む\n",
    "    with open(f'./prompt/{index}-2.txt', 'w') as file:\n",
    "        file.write(f\"{prompt2}\\n\")  # 各値を新しい行に書き込む"
   ]
  }
 ],
 "metadata": {
  "kernelspec": {
   "display_name": "Python 3",
   "language": "python",
   "name": "python3"
  },
  "language_info": {
   "codemirror_mode": {
    "name": "ipython",
    "version": 3
   },
   "file_extension": ".py",
   "mimetype": "text/x-python",
   "name": "python",
   "nbconvert_exporter": "python",
   "pygments_lexer": "ipython3",
   "version": "3.10.0"
  }
 },
 "nbformat": 4,
 "nbformat_minor": 2
}
